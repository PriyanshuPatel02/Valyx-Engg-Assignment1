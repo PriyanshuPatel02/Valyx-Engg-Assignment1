{
 "cells": [
  {
   "cell_type": "code",
   "execution_count": 2,
   "id": "ddb59906",
   "metadata": {},
   "outputs": [
    {
     "name": "stdout",
     "output_type": "stream",
     "text": [
      "Enter the names of bank account CSV files (comma-separated): axis.csv\n",
      "Enter keywords to search (comma-separated): NEFT\n",
      "Enter start date (YYYY-MM-DD): 2023-01-01\n",
      "Enter end date (YYYY-MM-DD): 2023-11-01\n"
     ]
    },
    {
     "name": "stderr",
     "output_type": "stream",
     "text": [
      "C:\\Users\\priya\\AppData\\Local\\Temp\\ipykernel_13552\\3758243208.py:37: SettingWithCopyWarning: \n",
      "A value is trying to be set on a copy of a slice from a DataFrame.\n",
      "Try using .loc[row_indexer,col_indexer] = value instead\n",
      "\n",
      "See the caveats in the documentation: https://pandas.pydata.org/pandas-docs/stable/user_guide/indexing.html#returning-a-view-versus-a-copy\n",
      "  df['Debit'] = df['Debit'].abs()  # Convert negative Debit values to positive (expenses)\n",
      "C:\\Users\\priya\\AppData\\Local\\Temp\\ipykernel_13552\\3758243208.py:38: SettingWithCopyWarning: \n",
      "A value is trying to be set on a copy of a slice from a DataFrame.\n",
      "Try using .loc[row_indexer,col_indexer] = value instead\n",
      "\n",
      "See the caveats in the documentation: https://pandas.pydata.org/pandas-docs/stable/user_guide/indexing.html#returning-a-view-versus-a-copy\n",
      "  df['Credit'] = df['Credit'].abs()  # Convert negative Credit values to positive (earnings)\n"
     ]
    },
    {
     "data": {
      "image/png": "[encoded data removed]",
      "text/plain": [
       "<Figure size 640x480 with 1 Axes>"
      ]
     },
     "metadata": {},
     "output_type": "display_data"
    },
    {
     "name": "stdout",
     "output_type": "stream",
     "text": [
      "Category: NEFT\n",
      "Total Expenses: 79197.11\n",
      "Total Earnings: 157179.57\n",
      "\n"
     ]
    }
   ],
   "source": [
    "import pandas as pd\n",
    "from datetime import datetime\n",
    "import matplotlib.pyplot as plt\n",
    "\n",
    "\n",
    "# Load and preprocess bank account statements\n",
    "# Load and preprocess bank account statements with the correct date format\n",
    "def load_and_preprocess(accounts):\n",
    "    data = []\n",
    "    for account in accounts:\n",
    "        # Specify the date format to match your CSV file\n",
    "        df = pd.read_csv(account, parse_dates=['Date'], dayfirst=True)\n",
    "        data.append(df)\n",
    "    return pd.concat(data)\n",
    "\n",
    "\n",
    "# Categorize line items based on keywords\n",
    "def categorize_data(data, keywords):\n",
    "    categorized_data = {}\n",
    "    for keyword in keywords:\n",
    "        categorized_data[keyword] = data[data['Description'].str.contains(keyword, case=False)]\n",
    "    return categorized_data\n",
    "\n",
    "# Calculate aggregated expenses and earnings for each category\n",
    "def calculate_aggregates(categorized_data):\n",
    "    aggregates = {}\n",
    "    for category, df in categorized_data.items():\n",
    "        total_expenses = df[df['Debit'] > 0]['Debit'].sum()\n",
    "        total_earnings = df[df['Credit'] > 0]['Credit'].sum()\n",
    "        aggregates[category] = {'Expenses': total_expenses, 'Earnings': total_earnings}\n",
    "    return aggregates\n",
    "\n",
    "# Plot time series graphs for each category\n",
    "def plot_time_series(categorized_data):\n",
    "    for category, df in categorized_data.items():\n",
    "        df.set_index('Date', inplace=True)\n",
    "        df['Debit'] = df['Debit'].abs()  # Convert negative Debit values to positive (expenses)\n",
    "        df['Credit'] = df['Credit'].abs()  # Convert negative Credit values to positive (earnings)\n",
    "        df.resample('M').sum().plot(kind='line', title=f'{category} Over Time')\n",
    "        plt.xlabel('Date')\n",
    "        plt.ylabel('Amount')\n",
    "        plt.show()\n",
    "\n",
    "\n",
    "# User-defined parameters (input from the user)\n",
    "accounts_input = input(\"Enter the names of bank account CSV files (comma-separated): \")\n",
    "accounts = accounts_input.split(',')\n",
    "keywords_input = input(\"Enter keywords to search (comma-separated): \")\n",
    "keywords = keywords_input.split(',')\n",
    "start_date_input = input(\"Enter start date (YYYY-MM-DD): \")\n",
    "start_date = datetime.strptime(start_date_input, \"%Y-%m-%d\")\n",
    "end_date_input = input(\"Enter end date (YYYY-MM-DD): \")\n",
    "end_date = datetime.strptime(end_date_input, \"%Y-%m-%d\")\n",
    "\n",
    "# Load and preprocess data\n",
    "data = load_and_preprocess(accounts)\n",
    "\n",
    "# Categorize data based on keywords\n",
    "categorized_data = categorize_data(data, keywords)\n",
    "\n",
    "# Calculate aggregated expenses and earnings for each category\n",
    "aggregates = calculate_aggregates(categorized_data)\n",
    "\n",
    "# Plot time series graphs for each category\n",
    "plot_time_series(categorized_data)\n",
    "\n",
    "# Display aggregated expenses and earnings\n",
    "for category, values in aggregates.items():\n",
    "    print(f'Category: {category}')\n",
    "    print(f'Total Expenses: {values[\"Expenses\"]}')\n",
    "    print(f'Total Earnings: {values[\"Earnings\"]}')\n",
    "    print()"
   ]
  },
  {
   "cell_type": "code",
   "execution_count": null,
   "id": "4d0599c5",
   "metadata": {},
   "outputs": [],
   "source": []
  }
 ],
 "metadata": {
  "kernelspec": {
   "display_name": "Python 3 (ipykernel)",
   "language": "python",
   "name": "python3"
  },
  "language_info": {
   "codemirror_mode": {
    "name": "ipython",
    "version": 3
   },
   "file_extension": ".py",
   "mimetype": "text/x-python",
   "name": "python",
   "nbconvert_exporter": "python",
   "pygments_lexer": "ipython3",
   "version": "3.8.18"
  }
 },
 "nbformat": 4,
 "nbformat_minor": 5
}
