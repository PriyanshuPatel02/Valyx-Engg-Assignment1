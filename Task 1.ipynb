{
 "cells": [
  {
   "cell_type": "code",
   "execution_count": 1,
   "id": "a8744ed2",
   "metadata": {},
   "outputs": [
    {
     "name": "stdout",
     "output_type": "stream",
     "text": [
      "Enter the names of bank account CSV files (comma-separated): axis.csv\n",
      "Enter keywords to search (comma-separated): Razorpay\n",
      "Enter start date (YYYY-MM-DD): 2023-01-01\n",
      "Enter end date (YYYY-MM-DD): 2023-12-01\n",
      "          Date Description  Debit   Credit       Balance\n",
      "40  2023-08-13   Razorpay     NaN  6155.80  9.999758e+08\n",
      "69  2023-08-19   Razorpay     NaN  1441.33  9.999769e+08\n",
      "72  2023-08-20   Razorpay     NaN  7271.52  9.999785e+08\n",
      "76  2023-08-21   Razorpay     NaN  5316.95  9.999857e+08\n",
      "100 2023-08-25   Razorpay     NaN  4075.96  9.999983e+08\n",
      "109 2023-08-27   Razorpay     NaN  6914.89  1.000004e+09\n",
      "115 2023-08-28   Razorpay     NaN  9371.54  9.999972e+08\n",
      "116 2023-08-29   Razorpay     NaN  2607.30  9.999998e+08\n",
      "140 2023-09-02   Razorpay     NaN  1988.60  9.999804e+08\n",
      "164 2023-09-07   Razorpay     NaN  9716.83  1.000028e+09\n",
      "179 2023-09-10   Razorpay     NaN   766.47  1.000034e+09\n",
      "187 2023-09-12   Razorpay     NaN  8946.17  1.000077e+09\n",
      "188 2023-09-12   Razorpay     NaN  4168.23  1.000082e+09\n"
     ]
    }
   ],
   "source": [
    "import pandas as pd\n",
    "from datetime import datetime\n",
    "\n",
    "# Define a function to search bank statements\n",
    "def search_bank_statements(accounts, keywords, start_date, end_date):\n",
    "    result = pd.DataFrame(columns=['Date', 'Description', 'Debit', 'Credit', 'Balance'])\n",
    "\n",
    "    # Loop through each account\n",
    "    for account in accounts:\n",
    "        # Load the CSV file into a DataFrame\n",
    "        df = pd.read_csv(account)\n",
    "\n",
    "        # Convert the 'Date' column to datetime objects with the correct format\n",
    "        df['Date'] = pd.to_datetime(df['Date'], format='%d/%m/%Y')\n",
    "\n",
    "        # Filter by date range\n",
    "        mask = (df['Date'] >= start_date) & (df['Date'] <= end_date)\n",
    "        df = df.loc[mask]\n",
    "\n",
    "        # Search for keywords in the 'Description' column\n",
    "        for keyword in keywords:\n",
    "            keyword_mask = df['Description'].str.contains(keyword, case=False)\n",
    "            keyword_df = df[keyword_mask]\n",
    "\n",
    "            # Append the results to the overall result DataFrame\n",
    "            result = pd.concat([result, keyword_df])\n",
    "\n",
    "    return result\n",
    "\n",
    "# User-defined parameters\n",
    "\n",
    "accounts = input(\"Enter the names of bank account CSV files (comma-separated): \").split(',')\n",
    "keywords = input(\"Enter keywords to search (comma-separated): \").split(',')\n",
    "start_date = datetime.strptime(input(\"Enter start date (YYYY-MM-DD): \"), \"%Y-%m-%d\")\n",
    "end_date = datetime.strptime(input(\"Enter end date (YYYY-MM-DD): \"), \"%Y-%m-%d\")\n",
    "# # Call the search function\n",
    "search_result = search_bank_statements(accounts, keywords, start_date, end_date)\n",
    "\n",
    "# account_files = {\n",
    "#     'Axis Bank': 'axis.csv',\n",
    "#     'HDFC Bank': 'hdfc.csv',\n",
    "#     'ICICI Bank': 'icici.csv'\n",
    "# }\n",
    "\n",
    "# print(\"Available bank accounts:\")\n",
    "# for account_name in account_files.keys():\n",
    "#     print(account_name)\n",
    "\n",
    "# selected_accounts = input(\"Enter the bank accounts to search (comma-separated): \").split(',')\n",
    "# selected_account_files = [account_files[account.strip()] for account in selected_accounts]\n",
    "\n",
    "# keywords = input(\"Enter keywords to search (comma-separated): \").split(',')\n",
    "# start_date = datetime.strptime(input(\"Enter start date (YYYY-MM-DD): \"), \"%Y-%m-%d\")\n",
    "# end_date = datetime.strptime(input(\"Enter end date (YYYY-MM-DD): \"), \"%Y-%m-%d\")\n",
    "\n",
    "\n",
    "# Display the search results\n",
    "print(search_result)\n",
    "\n",
    "\n"
   ]
  },
  {
   "cell_type": "code",
   "execution_count": null,
   "id": "0f6c8de0",
   "metadata": {},
   "outputs": [],
   "source": []
  }
 ],
 "metadata": {
  "kernelspec": {
   "display_name": "Python 3 (ipykernel)",
   "language": "python",
   "name": "python3"
  },
  "language_info": {
   "codemirror_mode": {
    "name": "ipython",
    "version": 3
   },
   "file_extension": ".py",
   "mimetype": "text/x-python",
   "name": "python",
   "nbconvert_exporter": "python",
   "pygments_lexer": "ipython3",
   "version": "3.8.18"
  }
 },
 "nbformat": 4,
 "nbformat_minor": 5
}
